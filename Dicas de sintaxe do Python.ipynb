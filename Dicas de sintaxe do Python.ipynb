{
 "cells": [
  {
   "cell_type": "markdown",
   "id": "24c0378a",
   "metadata": {},
   "source": [
    "# Dicas de sintaxe do Python\n",
    "\n",
    "Esse notebook explica algumas regras a respeito da sintaxe básica da linguagem de programação Python. \n",
    "\n",
    "- [Tipos embutidos](#Tipos-embutidos)\n",
    "    - [Strings](#Strings)\n",
    "    - [Números e operações matemáticas](#Números-e-operações-matemáticas)\n",
    "    - [Booleanos](#Booleanos)\n",
    "- [Atribuição de variável](#Atribuição-de-variável)\n",
    "- [Métodos de string](#Métodos-de-string)\n",
    "- [Comentários](#Comentários)\n",
    "- [A função print()](#A-função-print())\n",
    "- [Coleções de dados](#Coleções-de-dados)\n",
    "    - [Listas](#Listas)\n",
    "    - [Dicionários](#Dicionários)\n",
    "- [Estrutura de repetição `for`](#Estrutura-de-repetição-for)\n",
    "- [Declarações `if`](#Declarações-if)"
   ]
  },
  {
   "cell_type": "markdown",
   "id": "6ca6b073",
   "metadata": {},
   "source": [
    "### Tipos embutidos\n",
    "\n",
    "Assim como Excel e outros softwares de processamento de dados, Python reconhece uma gama de diferentes tipos de dados, sendo que três deles receberão mais ênfase:\n",
    "\n",
    "- Strings (texto)\n",
    "- Números (inteiros, números com casas decimais e mais)\n",
    "- Booleanos (`True`(verdadeiro) e `False`(falso)).\n",
    "\n",
    "Você pode usar a função embutida [`type()`](https://docs.python.org/pt-br/3/library/functions.html#type) para verificar o tipo de dado de um valor qualquer."
   ]
  },
  {
   "cell_type": "markdown",
   "id": "ea34572a",
   "metadata": {},
   "source": [
    "#### Strings\n",
    "\n",
    "Uma string é um conjunto de caracteres -- letras, números, o que quer que seja -- acompanhado de aspas simples ou duplas (não importando qual, contanto que as aspas de início e fim sejam iguais). O código nesses notebooks usa aspas simples. (O guia de estilo do Python não recomenda a alternação entre aspas: [\"Escolha uma regra e vá com ela até o fim.\"](https://www.python.org/dev/peps/pep-0008/#string-quotes))\n",
    "\n",
    "Se a sua string _contêm_ apostrófos ou citações, você deve escolher uma dentre duas opções: _Acrescentar_ uma barra invertida antes do caractere em questão `\\`:\n",
    "\n",
    "```python\n",
    "'Já tomou um copo d\\'água hoje?'\n",
    "```\n",
    "\n",
    "... ou mudar as aspas circundantes para aspas duplas:\n",
    "\n",
    "```python\n",
    "\"Já tomou um copo d'água hoje?\"\n",
    "```\n",
    "\n",
    "O guia de estilo recomenda o último ao invés do primeiro.\n",
    "\n",
    "Quando você chama a funcão `type()` em uma string, Python irá lhe retornar `str`.\n",
    "\n",
    "Chamando a [função `str()`](https://docs.python.org/pt-br/3/library/stdtypes.html#str) em um valor qualquer irá lhe retornar aquele mesmo valor convertido em string (veja os exemplos abaixo)."
   ]
  },
  {
   "cell_type": "code",
   "execution_count": null,
   "id": "fe9167ab",
   "metadata": {},
   "outputs": [],
   "source": [
    "'Repórteres Investigativos e Editores'"
   ]
  },
  {
   "cell_type": "code",
   "execution_count": null,
   "id": "56ebdf96",
   "metadata": {},
   "outputs": [],
   "source": [
    "type('Olá!')"
   ]
  },
  {
   "cell_type": "code",
   "execution_count": null,
   "id": "8b54c06d",
   "metadata": {},
   "outputs": [],
   "source": [
    "45"
   ]
  },
  {
   "cell_type": "code",
   "execution_count": null,
   "id": "af15c560",
   "metadata": {},
   "outputs": [],
   "source": [
    "type(45)"
   ]
  },
  {
   "cell_type": "code",
   "execution_count": null,
   "id": "cbbcd41d",
   "metadata": {},
   "outputs": [],
   "source": [
    "str(45)"
   ]
  },
  {
   "cell_type": "code",
   "execution_count": null,
   "id": "92f686f6",
   "metadata": {},
   "outputs": [],
   "source": [
    "type(str(45))"
   ]
  },
  {
   "cell_type": "code",
   "execution_count": null,
   "id": "3d4d3cfd",
   "metadata": {},
   "outputs": [],
   "source": [
    "str(True)"
   ]
  },
  {
   "cell_type": "markdown",
   "id": "fa70968e",
   "metadata": {},
   "source": [
    "Se você \"adicionar\" strings com um sinal de mais `+`, elas serão concatenadas:"
   ]
  },
  {
   "cell_type": "code",
   "execution_count": null,
   "id": "ca9c4c1d",
   "metadata": {},
   "outputs": [],
   "source": [
    "'IRE' + '/' + 'NICAR'"
   ]
  },
  {
   "cell_type": "markdown",
   "id": "341b5053",
   "metadata": {},
   "source": [
    "#### Números e operações matemáticas\n",
    "\n",
    "Python reconhece uma infinidade de tipos de dados numéricos. Os dois mais comuns são integers (números inteiros) e floats (números com casas decimais).\n",
    "\n",
    "Chamar a função `int()` em um tipo de dado númerico (mesmo que este esteja no formato string) tentará forçá-lo a ser um inteiro; chamar a função `float()` tentará convertê-lo em float."
   ]
  },
  {
   "cell_type": "code",
   "execution_count": null,
   "id": "4db1e575",
   "metadata": {},
   "outputs": [],
   "source": [
    "12"
   ]
  },
  {
   "cell_type": "code",
   "execution_count": null,
   "id": "dba37e48",
   "metadata": {},
   "outputs": [],
   "source": [
    "12.4"
   ]
  },
  {
   "cell_type": "code",
   "execution_count": null,
   "id": "a7f884f1",
   "metadata": {},
   "outputs": [],
   "source": [
    "type(12)"
   ]
  },
  {
   "cell_type": "code",
   "execution_count": null,
   "id": "9c5a3f23",
   "metadata": {},
   "outputs": [],
   "source": [
    "type(12.4)"
   ]
  },
  {
   "cell_type": "code",
   "execution_count": null,
   "id": "373c06c3",
   "metadata": {},
   "outputs": [],
   "source": [
    "int(35.6)"
   ]
  },
  {
   "cell_type": "code",
   "execution_count": null,
   "id": "0246bae3",
   "metadata": {},
   "outputs": [],
   "source": [
    "int('45')"
   ]
  },
  {
   "cell_type": "code",
   "execution_count": null,
   "id": "207484ed",
   "metadata": {},
   "outputs": [],
   "source": [
    "float(46)"
   ]
  },
  {
   "cell_type": "code",
   "execution_count": null,
   "id": "eb2e4da7",
   "metadata": {},
   "outputs": [],
   "source": [
    "float('45')"
   ]
  },
  {
   "cell_type": "markdown",
   "id": "92a7ec20",
   "metadata": {},
   "source": [
    "Você pode realizar [operações matemáticas básicas](https://www.digitalocean.com/community/tutorials/how-to-do-math-in-python-3-with-operators) com o Python. Você também pode fazer [operações matemáticas mais avançadas](https://docs.python.org/pt-br/3/library/math.html)."
   ]
  },
  {
   "cell_type": "code",
   "execution_count": null,
   "id": "407000af",
   "metadata": {},
   "outputs": [],
   "source": [
    "4+2"
   ]
  },
  {
   "cell_type": "code",
   "execution_count": null,
   "id": "80df518e",
   "metadata": {},
   "outputs": [],
   "source": [
    "10-9"
   ]
  },
  {
   "cell_type": "code",
   "execution_count": null,
   "id": "029b0ade",
   "metadata": {},
   "outputs": [],
   "source": [
    "5*10"
   ]
  },
  {
   "cell_type": "code",
   "execution_count": null,
   "id": "d2fa900e",
   "metadata": {},
   "outputs": [],
   "source": [
    "1000/10"
   ]
  },
  {
   "cell_type": "code",
   "execution_count": null,
   "id": "c6aaa9d8",
   "metadata": {},
   "outputs": [],
   "source": [
    "# ** eleva um número à potência de outro número\n",
    "5**2"
   ]
  },
  {
   "cell_type": "markdown",
   "id": "74c8ca31",
   "metadata": {},
   "source": [
    "#### Booleanos\n",
    "\n",
    "Assim como o Excel, que possui os tipos `VERDADEIRO` e `FALSO`, Python possui tipos booleanos. Eles são `True` e `False` -- perceba que eles não devem vir acompanhados de aspas e que apenas as iniciais devem ser maiúsculas.\n",
    "\n",
    "Normalmente, valores booleanos são retornados quando você está trabalhando com algum tipo de declaração condicional -- comparando valores, verificando se uma string está dentro de outra string, se um valor está contido em uma lista, etc. \n",
    "\n",
    "Os [operadores lógicos do Python](https://docs.python.org/pt-br/3/reference/expressions.html#comparisons) são:\n",
    "\n",
    "- `>` maior que\n",
    "- `<` menor que\n",
    "- `>=` maior que ou igual a\n",
    "- `<=` menor que ou igual a\n",
    "- `==` igual a\n",
    "- `!=` diferente de"
   ]
  },
  {
   "cell_type": "code",
   "execution_count": null,
   "id": "e0ae73a2",
   "metadata": {},
   "outputs": [],
   "source": [
    "True"
   ]
  },
  {
   "cell_type": "code",
   "execution_count": null,
   "id": "37acbfee",
   "metadata": {},
   "outputs": [],
   "source": [
    "False"
   ]
  },
  {
   "cell_type": "code",
   "execution_count": null,
   "id": "294936f3",
   "metadata": {},
   "outputs": [],
   "source": [
    "4 > 6"
   ]
  },
  {
   "cell_type": "code",
   "execution_count": null,
   "id": "d8b39e75",
   "metadata": {},
   "outputs": [],
   "source": [
    "10 == 10"
   ]
  },
  {
   "cell_type": "code",
   "execution_count": null,
   "id": "8c47a09a",
   "metadata": {},
   "outputs": [],
   "source": [
    "'crapulência' == 'Crapulência'"
   ]
  },
  {
   "cell_type": "code",
   "execution_count": null,
   "id": "280394e0",
   "metadata": {},
   "outputs": [],
   "source": [
    "type(True)"
   ]
  },
  {
   "cell_type": "markdown",
   "id": "d6f4ec68",
   "metadata": {},
   "source": [
    "### Atribuição de variável\n",
    "\n",
    "O sinal de `=` atribui um valor a uma variável cujo nome você irá definir. Se você quiser fazer uso desse valor basta que você chame o nome da variável. Nomes de variáveis podem ser qualquer coisa que nós quiseremos, [contanto que você siga algumas regrinhas básicas](https://thehelloworldprogram.com/python/python-variable-assignment-statements-rules-conventions-naming/).\n",
    "\n",
    "Este pode ser um conceito complicado de entender de primeira! Para mais detalhes, [aqui vai uma explicação muito boa do Digital Ocean](https://www.digitalocean.com/community/tutorials/how-to-use-variables-in-python-3)."
   ]
  },
  {
   "cell_type": "code",
   "execution_count": null,
   "id": "b8cb8f06",
   "metadata": {},
   "outputs": [],
   "source": [
    "meu_nome = 'Francisco'"
   ]
  },
  {
   "cell_type": "code",
   "execution_count": null,
   "id": "b85454aa",
   "metadata": {},
   "outputs": [],
   "source": [
    "meu_nome"
   ]
  },
  {
   "cell_type": "markdown",
   "id": "c84b8d62",
   "metadata": {},
   "source": [
    "Você também pode _reatribuir_ um valor diferente para o nome de uma variável, apesar disso, no contexto de boas práticas, é melhor criar uma nova variável."
   ]
  },
  {
   "cell_type": "code",
   "execution_count": null,
   "id": "a1f8bfb3",
   "metadata": {},
   "outputs": [],
   "source": [
    "meu_numero_preferido = 10 + 3"
   ]
  },
  {
   "cell_type": "code",
   "execution_count": null,
   "id": "5fde36f0",
   "metadata": {},
   "outputs": [],
   "source": [
    "meu_numero_preferido"
   ]
  },
  {
   "cell_type": "markdown",
   "id": "8ccb217e",
   "metadata": {},
   "source": [
    "Também é comum se referir a variáveis previamente definidas em uma expressão:"
   ]
  },
  {
   "cell_type": "code",
   "execution_count": null,
   "id": "7a705ddc",
   "metadata": {},
   "outputs": [],
   "source": [
    "times_da_nfl = 32\n",
    "times_da_mlb = 30\n",
    "times_da_nba = 30\n",
    "times_da_nhl = 31\n",
    "\n",
    "quantidade_de_times_profissionais = times_da_nfl + times_da_mlb + times_da_nba + times_da_nhl"
   ]
  },
  {
   "cell_type": "code",
   "execution_count": null,
   "id": "be48074a",
   "metadata": {},
   "outputs": [],
   "source": [
    "quantidade_de_times_profissionais"
   ]
  },
  {
   "cell_type": "markdown",
   "id": "5bfd93a1",
   "metadata": {},
   "source": [
    "### Métodos de string\n",
    "\n",
    "Voltando a falar de strings, é importante ressaltar que esses objetos possuem uma série de [métodos](https://docs.python.org/pt-br/3/library/stdtypes.html#string-methods) muito úteis -- vamos usar uma string como exemplo para ilustrar os mais comuns."
   ]
  },
  {
   "cell_type": "code",
   "execution_count": null,
   "id": "44dd516a",
   "metadata": {},
   "outputs": [],
   "source": [
    "minha_string = '    Oi, amigos!'"
   ]
  },
  {
   "cell_type": "markdown",
   "id": "1c2a8a8e",
   "metadata": {},
   "source": [
    "A função `upper()` capitaliza todos os caracteres de uma string:"
   ]
  },
  {
   "cell_type": "code",
   "execution_count": null,
   "id": "934e513c",
   "metadata": {},
   "outputs": [],
   "source": [
    "minha_string.upper()"
   ]
  },
  {
   "cell_type": "markdown",
   "id": "86a4d772",
   "metadata": {},
   "source": [
    "`lower()` converte para minúsculos:"
   ]
  },
  {
   "cell_type": "code",
   "execution_count": null,
   "id": "7d1a06f4",
   "metadata": {},
   "outputs": [],
   "source": [
    "minha_string.lower()"
   ]
  },
  {
   "cell_type": "markdown",
   "id": "ad42608d",
   "metadata": {},
   "source": [
    "`replace()` irá substituir um trecho de texto com outro trecho a ser especificado por você:"
   ]
  },
  {
   "cell_type": "code",
   "execution_count": null,
   "id": "914cf5e3",
   "metadata": {},
   "outputs": [],
   "source": [
    "minha_string.replace('amigos', 'inimigos')"
   ]
  },
  {
   "cell_type": "markdown",
   "id": "6e4669ea",
   "metadata": {},
   "source": [
    "`count()` irá contar a quantidade de vezes que um caractere ou grupo de caracteres aparece na sua string:"
   ]
  },
  {
   "cell_type": "code",
   "execution_count": null,
   "id": "642ed865",
   "metadata": {},
   "outputs": [],
   "source": [
    "minha_string.count('o')"
   ]
  },
  {
   "cell_type": "markdown",
   "id": "85a6ec19",
   "metadata": {},
   "source": [
    "Perceba que `count()` diferencia entre minúsculas e maiúsculas. Se o que você deseja é \"contar todas as letras 'o'\", você deve converter sua string original para maiúscula ou minúscula anteriormente."
   ]
  },
  {
   "cell_type": "code",
   "execution_count": null,
   "id": "01bc0e8b",
   "metadata": {},
   "outputs": [],
   "source": [
    "minha_string.upper().count('O')"
   ]
  },
  {
   "cell_type": "markdown",
   "id": "dc146a55",
   "metadata": {},
   "source": [
    "`split()` irá fatiar a string e armazená-la em uma [lista](#Listas) (iremos falar mais sobre elas já já) baseado em um delimitador (caso você não defina um delimitador, o delimitador definido por padrão é um espaço em branco):"
   ]
  },
  {
   "cell_type": "code",
   "execution_count": null,
   "id": "8663e077",
   "metadata": {},
   "outputs": [],
   "source": [
    "minha_string.split()"
   ]
  },
  {
   "cell_type": "code",
   "execution_count": null,
   "id": "bbacea47",
   "metadata": {},
   "outputs": [],
   "source": [
    "minha_string.split(',')"
   ]
  },
  {
   "cell_type": "code",
   "execution_count": null,
   "id": "7b7438ec",
   "metadata": {},
   "outputs": [],
   "source": [
    "minha_string.split('Pitt')"
   ]
  },
  {
   "cell_type": "markdown",
   "id": "1f1b0a96",
   "metadata": {},
   "source": [
    "A função `strip()` remove espaços em branco das extremidade da sua string (mas não os espaços em branco internos):"
   ]
  },
  {
   "cell_type": "code",
   "execution_count": null,
   "id": "d4432f08",
   "metadata": {},
   "outputs": [],
   "source": [
    "minha_string.strip()"
   ]
  },
  {
   "cell_type": "markdown",
   "id": "6a712332",
   "metadata": {},
   "source": [
    "Tem uma coisa muito massa chamada \"encadeamento de método\" que te permite combinar métodos -- é só adicioná-los um ao final do outro. Digamos que nós quiséssemos remover um espaço em branco da nossa string _e_ colocá-la em maiúsculo:"
   ]
  },
  {
   "cell_type": "code",
   "execution_count": null,
   "id": "19938073",
   "metadata": {},
   "outputs": [],
   "source": [
    "minha_string.strip().upper()"
   ]
  },
  {
   "cell_type": "markdown",
   "id": "37046553",
   "metadata": {},
   "source": [
    "Apesar disso, nossa string original permanece inalterada:"
   ]
  },
  {
   "cell_type": "code",
   "execution_count": null,
   "id": "8a8e9add",
   "metadata": {},
   "outputs": [],
   "source": [
    "minha_string"
   ]
  },
  {
   "cell_type": "markdown",
   "id": "fe7ffaba",
   "metadata": {},
   "source": [
    "Mas por que isso? É que a gente não atribuiu os resultados de nenhuma dessas operações a qualquer variável. Uma prática muito comum, especialmente quando estamos limpando dados, é atribuir os resultados a uma nova variável:"
   ]
  },
  {
   "cell_type": "code",
   "execution_count": null,
   "id": "ed59b96a",
   "metadata": {},
   "outputs": [],
   "source": [
    "minha_string_limpa = minha_string.strip().upper()"
   ]
  },
  {
   "cell_type": "code",
   "execution_count": null,
   "id": "58f3f9b5",
   "metadata": {},
   "outputs": [],
   "source": [
    "minha_string_limpa"
   ]
  },
  {
   "cell_type": "markdown",
   "id": "53eadf31",
   "metadata": {},
   "source": [
    "### Comentários\n",
    "\n",
    "Uma linha comentada -- uma nota que você não quer que seja interpretada como código pelo Python -- começa com um sinal de `#`. Esse recurso é utilizado para que você e outros colaboradores entendam o que está acontecendo naquele ponto do seu código e o porquê de estar acontecendo.\n",
    "\n",
    "Em geral, você deve usar essa ferramenta logo acima da linha de código que você deseja comentar:"
   ]
  },
  {
   "cell_type": "code",
   "execution_count": null,
   "id": "8763975a",
   "metadata": {},
   "outputs": [],
   "source": [
    "liquidacao_media = 40827348.34328237\n",
    "\n",
    "# convertendo este valor para int porque não precisamos de casas decimais nesse caso\n",
    "int(liquidacao_media)"
   ]
  },
  {
   "cell_type": "markdown",
   "id": "04bf5940",
   "metadata": {},
   "source": [
    "Comentários de mais de uma linha são colocados entre três aspas (ou três apóstrofos):\n",
    "`'''\n",
    "este\n",
    "é um longo\n",
    "comentário\n",
    "'''`\n",
    "\n",
    "ou\n",
    "\n",
    "`\"\"\"\n",
    "este é outro\n",
    "longo\n",
    "comentário\n",
    "\"\"\"`"
   ]
  },
  {
   "cell_type": "markdown",
   "id": "f2bd2ec4",
   "metadata": {},
   "source": [
    "### A função `print()`\n",
    "\n",
    "Até então, nós executamos as células deste notebook para pegar o último valor retornado pelo código que escrevemos. Usar a função [`print()`](https://docs.python.org/pt-br/3/library/functions.html#print) é uma forma de imprimir na tela coisas específicas do seu código. Esta é também uma ferramenta bem útil para depuração de código.\n",
    "\n",
    "Para exibir múltiplos elementos na mesma linha, separe-os com uma vírgula."
   ]
  },
  {
   "cell_type": "code",
   "execution_count": null,
   "id": "034fd283",
   "metadata": {},
   "outputs": [],
   "source": [
    "print('Olá!')"
   ]
  },
  {
   "cell_type": "code",
   "execution_count": null,
   "id": "c39bc6bb",
   "metadata": {},
   "outputs": [],
   "source": [
    "print(meu_nome)"
   ]
  },
  {
   "cell_type": "code",
   "execution_count": null,
   "id": "af4fd086",
   "metadata": {},
   "outputs": [],
   "source": [
    "print('Olá,', meu_nome)"
   ]
  },
  {
   "cell_type": "markdown",
   "id": "bff733fa",
   "metadata": {},
   "source": [
    "## Coleções de dados\n",
    "\n",
    "Agora iremos abordar duas maneiras que você pode usar Python para agrupar dados em uma coleção: listas e dicionários."
   ]
  },
  {
   "cell_type": "markdown",
   "id": "0feb98c3",
   "metadata": {},
   "source": [
    "### Listas\n",
    "\n",
    "Uma _lista_ é um conjunto de itens separados por vírgulas dentro de colchetes: `[]`.\n",
    "\n",
    "Aqui vai uma lista de ingredientes, cada um sendo uma string, que combinados formam a receita de um molho."
   ]
  },
  {
   "cell_type": "code",
   "execution_count": null,
   "id": "9c3f8761",
   "metadata": {},
   "outputs": [],
   "source": [
    "ingredientes_para_o_molho = ['tomate', 'cebola', 'pimenta', 'lima', 'coentro']"
   ]
  },
  {
   "cell_type": "markdown",
   "id": "1ec1bb5c",
   "metadata": {},
   "source": [
    "Para acessar um item de uma lista você deve informar sua posição numérica na lista -- o seu _índice_ (1, 2, 3, etc.) -- dentro de colchetes imediatamente após o nome da variável da lista. Assim como em muitas outras linguagens de programação, em Python a contagem começa em 0. Isso significa que o primeiro item de uma lista é o item `0`."
   ]
  },
  {
   "cell_type": "code",
   "execution_count": null,
   "id": "ea20bc26",
   "metadata": {},
   "outputs": [],
   "source": [
    "ingredientes_para_o_molho[0]"
   ]
  },
  {
   "cell_type": "code",
   "execution_count": null,
   "id": "8c70b25a",
   "metadata": {},
   "outputs": [],
   "source": [
    "ingredientes_para_o_molho[1]"
   ]
  },
  {
   "cell_type": "markdown",
   "id": "7094472f",
   "metadata": {},
   "source": [
    "Você pode usar _índices negativos_ para acessar itens do lado direito da lista -- e, na verdade, `[-1]` é um termo comum para acessar \"o último item da lista\" quando não está tão claro assim quantos elementos há na lista em questão."
   ]
  },
  {
   "cell_type": "code",
   "execution_count": null,
   "id": "7dbd7432",
   "metadata": {},
   "outputs": [],
   "source": [
    "ingredientes_para_o_molho[-1]"
   ]
  },
  {
   "cell_type": "markdown",
   "id": "a905075b",
   "metadata": {},
   "source": [
    "Se o que você precisa é pegar um trecho com alguns itens da sua lista, você só precisa usar dois pontos (mais ou menos como no Excel!). \n",
    "\n",
    "Se quer acessar os primeiros três itens, por exemplo, é só fazer assim:"
   ]
  },
  {
   "cell_type": "code",
   "execution_count": null,
   "id": "a8e48c2a",
   "metadata": {},
   "outputs": [],
   "source": [
    "ingredientes_para_o_molho[0:3]"
   ]
  },
  {
   "cell_type": "markdown",
   "id": "a2f2eb3e",
   "metadata": {},
   "source": [
    "Você poderia ter deixado de fora o 0 do começo -- quando você não informa o primeiro número, o Python por padrão define para \"o primeiro item na lista.\" Da mesma forma, se você deixar de fora o último número, o padrão definido pelo Python é \"o último item da lista.\""
   ]
  },
  {
   "cell_type": "code",
   "execution_count": null,
   "id": "20b53847",
   "metadata": {},
   "outputs": [],
   "source": [
    "ingredientes_para_o_molho[:3]"
   ]
  },
  {
   "cell_type": "markdown",
   "id": "ab641bcd",
   "metadata": {},
   "source": [
    "Observe que essa fatia nos devolve os itens 0, 1 e 2. O item `3` no nosso conjunto é o primeiro item que nós _não_ queremos. Isso pode parecer confuso em um primeiro momento. Vamos tentar mais alguns:"
   ]
  },
  {
   "cell_type": "code",
   "execution_count": null,
   "id": "84be4755",
   "metadata": {},
   "outputs": [],
   "source": [
    "# tudo na lista, exceto o primeiro item\n",
    "ingredientes_para_o_molho[1:]"
   ]
  },
  {
   "cell_type": "code",
   "execution_count": null,
   "id": "bf9966f9",
   "metadata": {},
   "outputs": [],
   "source": [
    "# o segundo, terceiro e quarto itens\n",
    "ingredientes_para_o_molho[1:4]"
   ]
  },
  {
   "cell_type": "code",
   "execution_count": null,
   "id": "85e36c79",
   "metadata": {},
   "outputs": [],
   "source": [
    "# os dois últimos itens\n",
    "ingredientes_para_o_molho[-2:]"
   ]
  },
  {
   "cell_type": "markdown",
   "id": "ede9c332",
   "metadata": {},
   "source": [
    "Para saber quantos itens uma lista tem é só usar a funcão `len()`"
   ]
  },
  {
   "cell_type": "code",
   "execution_count": null,
   "id": "8bc4b704",
   "metadata": {},
   "outputs": [],
   "source": [
    "len(ingredientes_para_o_molho)"
   ]
  },
  {
   "cell_type": "markdown",
   "id": "5e0af166",
   "metadata": {},
   "source": [
    "Para adicionar itens a uma lista, use o método `append()`:"
   ]
  },
  {
   "cell_type": "code",
   "execution_count": null,
   "id": "1639a921",
   "metadata": {},
   "outputs": [],
   "source": [
    "ingredientes_para_o_molho"
   ]
  },
  {
   "cell_type": "code",
   "execution_count": null,
   "id": "6590a531",
   "metadata": {},
   "outputs": [],
   "source": [
    "ingredientes_para_o_molho.append('maionese')"
   ]
  },
  {
   "cell_type": "code",
   "execution_count": null,
   "id": "19d2ceee",
   "metadata": {},
   "outputs": [],
   "source": [
    "ingredientes_para_o_molho"
   ]
  },
  {
   "cell_type": "markdown",
   "id": "98bfec10",
   "metadata": {},
   "source": [
    "O único problema aqui é que ficou meio _nojento_, haha. Para remover um item de uma lista, use o método `pop()`. Se você não informar o índice númerico do item específico que você quer remover, o valor padrão do método é \"o último item da lista\"."
   ]
  },
  {
   "cell_type": "code",
   "execution_count": null,
   "id": "7423f2cc",
   "metadata": {},
   "outputs": [],
   "source": [
    "ingredientes_para_o_molho.pop()"
   ]
  },
  {
   "cell_type": "code",
   "execution_count": null,
   "id": "2c88e9ea",
   "metadata": {},
   "outputs": [],
   "source": [
    "ingredientes_para_o_molho"
   ]
  },
  {
   "cell_type": "markdown",
   "id": "44d04901",
   "metadata": {},
   "source": [
    "Você pode usar as expressões [`in` e `not in`](https://docs.python.org/pt-br/3/reference/expressions.html#membership-test-operations) para verificar se um item pertence àquela lista (e irá lhe retornar um booleano):"
   ]
  },
  {
   "cell_type": "code",
   "execution_count": null,
   "id": "22a25cfd",
   "metadata": {},
   "outputs": [],
   "source": [
    "'lima' in ingredientes_para_o_molho"
   ]
  },
  {
   "cell_type": "code",
   "execution_count": null,
   "id": "a6011786",
   "metadata": {},
   "outputs": [],
   "source": [
    "'coentro' not in ingredientes_para_o_molho"
   ]
  },
  {
   "cell_type": "markdown",
   "id": "ea0514be",
   "metadata": {},
   "source": [
    "### Dicionários\n",
    "\n",
    "Um dicionário é um conjunto de pares de chave/valor, separados por vírgula, dentro de chaves: `{}`. Vamos fazer uma receita inteira de molho:"
   ]
  },
  {
   "cell_type": "code",
   "execution_count": null,
   "id": "70c8eb17",
   "metadata": {},
   "outputs": [],
   "source": [
    "molho = {\n",
    "    'ingredientes': ingredientes_para_o_molho,\n",
    "    'instrucoes': 'Corte todos os ingredientes e cozinhe eles por um tempinho.',\n",
    "    'porcoes': 12\n",
    "}"
   ]
  },
  {
   "cell_type": "markdown",
   "id": "7a3a1493",
   "metadata": {},
   "source": [
    "Para retornar um valor de um dicionário, você deve chamar o nome da sua respectiva chave dentro de colchetes `[]` imediatamente após o nome da variável do dicionário em questão. "
   ]
  },
  {
   "cell_type": "code",
   "execution_count": null,
   "id": "31a2135d",
   "metadata": {},
   "outputs": [],
   "source": [
    "molho['porcoes']"
   ]
  },
  {
   "cell_type": "code",
   "execution_count": null,
   "id": "eeea99f0",
   "metadata": {},
   "outputs": [],
   "source": [
    "molho['ingredientes']"
   ]
  },
  {
   "cell_type": "markdown",
   "id": "5b4713da",
   "metadata": {},
   "source": [
    "Para adicionar um novo conjunto de chave/valor a um dicionário, atribua uma nova chave dentro de colchetes ao dicionário desejado e defina o valor logo após o `=`: "
   ]
  },
  {
   "cell_type": "code",
   "execution_count": null,
   "id": "421d3adb",
   "metadata": {},
   "outputs": [],
   "source": [
    "molho['esta_uma_delicia'] = True"
   ]
  },
  {
   "cell_type": "code",
   "execution_count": null,
   "id": "733399a2",
   "metadata": {},
   "outputs": [],
   "source": [
    "molho"
   ]
  },
  {
   "cell_type": "markdown",
   "id": "f8bd71d8",
   "metadata": {},
   "source": [
    "Para excluir um par chave/valor de um dicionário, utilize o comando `del` antes o nome do dicionário acompanhado da chave específica:"
   ]
  },
  {
   "cell_type": "code",
   "execution_count": null,
   "id": "0f84017e",
   "metadata": {},
   "outputs": [],
   "source": [
    "del molho['esta_uma_delicia']"
   ]
  },
  {
   "cell_type": "code",
   "execution_count": null,
   "id": "43e69c4a",
   "metadata": {},
   "outputs": [],
   "source": [
    "molho"
   ]
  },
  {
   "cell_type": "markdown",
   "id": "f5d7aee6",
   "metadata": {},
   "source": [
    "### Indentação\n",
    "\n",
    "Espaços em branco fazem a diferença para o Python. Às vezes você precisará identar pedaços de código para que as coisas funcionem. Isso pode ser confuso! `IndentationError` é um tipo muito comum de erro, até mesmo para programadores mais experientes. (Inclusive, o Jupyter tentará ser prestativo e vai te dar uma mãozinha inserindo uma quantidade \"significativa de espaços em branco\" pra você.)\n",
    "\n",
    "Você pode usar tabs ou espaços, só não misture os dois. [O guia de estilo do Python](https://www.python.org/dev/peps/pep-0008/) recomenda que você indente seu código em grupos de quatro espaços, então será isso o que nós usaremos."
   ]
  },
  {
   "cell_type": "markdown",
   "id": "3e3902f3",
   "metadata": {},
   "source": [
    "### Estrutura de repetição `for`\n",
    "\n",
    "Você deve usar um `for` para iterar sobre uma coleção de coisas. A declaração começa com a palavra-chave `for` (em minúsculas), e então uma variável temporária chamada, por exemplo, `nome_da_variavel`; você pode chamar essa variável como quiser, desde que ela percorra a coleção. Então insira a palavra-chave `in` e em seguida a coleção que você está percorrendo (ou o nome da sua variável), e então dois pontos. Após isso vamos colocar um bloco indentado de código com instruções sobre o que fazer com cada item na coleção.\n",
    "\n",
    "Digamos que temos uma lista de números atribuida à variável `lista_de_numeros`."
   ]
  },
  {
   "cell_type": "code",
   "execution_count": null,
   "id": "f31b896b",
   "metadata": {},
   "outputs": [],
   "source": [
    "lista_de_numeros = [1, 2, 3, 4, 5, 6]"
   ]
  },
  {
   "cell_type": "markdown",
   "id": "83bac500",
   "metadata": {},
   "source": [
    "É possível percorer os elementos da lista e imprimir cada um deles na tela:"
   ]
  },
  {
   "cell_type": "code",
   "execution_count": null,
   "id": "32066469",
   "metadata": {},
   "outputs": [],
   "source": [
    "for numero in lista_de_numeros:\n",
    "    print(numero)"
   ]
  },
  {
   "cell_type": "markdown",
   "id": "8e51a4cb",
   "metadata": {},
   "source": [
    "Podemos também exibir na tela cada número da lista _multiplicado_ por 6:"
   ]
  },
  {
   "cell_type": "code",
   "execution_count": null,
   "id": "beacc1fe",
   "metadata": {},
   "outputs": [],
   "source": [
    "for numero in lista_de_numeros:\n",
    "    print(numero*6)"
   ]
  },
  {
   "cell_type": "markdown",
   "id": "9de59d01",
   "metadata": {},
   "source": [
    "... ou qualquer outra coisa que você queira fazer. Observe que a escolha de nome da variável chamada de `numero` na sua repetição é totalmente arbitrária. Isso também funcionária:"
   ]
  },
  {
   "cell_type": "code",
   "execution_count": null,
   "id": "30739123",
   "metadata": {},
   "outputs": [],
   "source": [
    "for banana in lista_de_numeros:\n",
    "    print(banana)"
   ]
  },
  {
   "cell_type": "markdown",
   "id": "3ab46599",
   "metadata": {},
   "source": [
    "Talvez seja desafiador, em um primeiro momento, diferenciar o que é uma \"palavra reservada do Python\" e o que é o nome de uma variável que você mesmo/a pode definir. Isso, no entanto, vem com a prática."
   ]
  },
  {
   "cell_type": "markdown",
   "id": "15331646",
   "metadata": {},
   "source": [
    "Também dá pra iterar sobre os elementos de uma string. Vamos percorrer sobre as letras nesta sentença:"
   ]
  },
  {
   "cell_type": "code",
   "execution_count": null,
   "id": "9f1ab92a",
   "metadata": {},
   "outputs": [],
   "source": [
    "sentenca = 'Olá, IRE/NICAR'\n",
    "\n",
    "for letra in sentenca:\n",
    "    print(letra)"
   ]
  },
  {
   "cell_type": "markdown",
   "id": "908e8c98",
   "metadata": {},
   "source": [
    "Então: Strings são iteráveis, assim como listas, logo, você pode utilizar os mesmos métodos:"
   ]
  },
  {
   "cell_type": "code",
   "execution_count": null,
   "id": "9154bde2",
   "metadata": {},
   "outputs": [],
   "source": [
    "# pegue os primeiros cinco caracteres\n",
    "sentenca[:5]"
   ]
  },
  {
   "cell_type": "code",
   "execution_count": null,
   "id": "d6eed1ec",
   "metadata": {},
   "outputs": [],
   "source": [
    "# descubra o tamanho da sentenca\n",
    "len(sentenca)"
   ]
  },
  {
   "cell_type": "code",
   "execution_count": null,
   "id": "c0f66494",
   "metadata": {},
   "outputs": [],
   "source": [
    "'Olá' in sentenca"
   ]
  },
  {
   "cell_type": "markdown",
   "id": "ae8f1c22",
   "metadata": {},
   "source": [
    "Você pode percorrer os elementos de um dicionário também -- só tenha em mente que dicionários _não registram a ordem que os itens foram adicionados nele_.\n",
    "\n",
    "Quando você está iterando sobre um dicionário, a variável que você colocou após o `for` irá se remeter às chaves. Vamos percorrer sobre nosso dicionário `molho` ali de cima:"
   ]
  },
  {
   "cell_type": "code",
   "execution_count": null,
   "id": "e103fb2a",
   "metadata": {},
   "outputs": [],
   "source": [
    "for chave in molho:\n",
    "    print(chave)"
   ]
  },
  {
   "cell_type": "markdown",
   "id": "5557ca4f",
   "metadata": {},
   "source": [
    "Para pegar o _valor_ do item de um dicionário em uma iteração você deve usar a chave para se referir a ela mesma no dicionário:"
   ]
  },
  {
   "cell_type": "code",
   "execution_count": null,
   "id": "2c50475b",
   "metadata": {},
   "outputs": [],
   "source": [
    "for chave in molho:\n",
    "    print(molho[chave])"
   ]
  },
  {
   "cell_type": "markdown",
   "id": "6e08b9f3",
   "metadata": {},
   "source": [
    "### Declarações `if`\n",
    "\n",
    "Asim como no Excel, você pode lançar mão da estrutura \"SE\" para lidar com lógica condicional.\n",
    "\n",
    "No Python, essas declarações começam com a palavra-chave `if` (em minúsculas), então a condição a ser avaliada, e em seguida dois pontos, e então uma nova linha de bloco de código indentado para então executar o código se a condição encontrada for `True` (verdadeira)."
   ]
  },
  {
   "cell_type": "code",
   "execution_count": null,
   "id": "24495580",
   "metadata": {},
   "outputs": [],
   "source": [
    "if 4 < 6:\n",
    "    print('4 é menor do que 6')"
   ]
  },
  {
   "cell_type": "markdown",
   "id": "aa41acfb",
   "metadata": {},
   "source": [
    "Você também pode adicionar um `else` com um bloco de código indentado caso a condição encontrada for `False` (falsa)."
   ]
  },
  {
   "cell_type": "code",
   "execution_count": null,
   "id": "320f0a96",
   "metadata": {},
   "outputs": [],
   "source": [
    "if 4 > 6:\n",
    "    print('4 é maior do que 6?!')\n",
    "else:\n",
    "    print('4 não é maior do que 6.')"
   ]
  },
  {
   "cell_type": "markdown",
   "id": "c5bb999d",
   "metadata": {},
   "source": [
    "Se você precisar, você pode adicionar múltiplas condições com `elif`."
   ]
  },
  {
   "cell_type": "code",
   "execution_count": null,
   "id": "9df8bffa",
   "metadata": {},
   "outputs": [],
   "source": [
    "NOSSO_PLACAR = 6\n",
    "PLACAR_DO_OUTRO_TIME = 8\n",
    "\n",
    "if NOSSO_PLACAR > PLACAR_DO_OUTRO_TIME:\n",
    "    print('ganhamos!')\n",
    "elif PLACAR_DO_OUTRO_TIME < NOSSO_PLACAR:\n",
    "    print('empatamos!')\n",
    "else:\n",
    "    print('perdemos!')"
   ]
  }
 ],
 "metadata": {
  "kernelspec": {
   "display_name": "Python 3 (ipykernel)",
   "language": "python",
   "name": "python3"
  },
  "language_info": {
   "codemirror_mode": {
    "name": "ipython",
    "version": 3
   },
   "file_extension": ".py",
   "mimetype": "text/x-python",
   "name": "python",
   "nbconvert_exporter": "python",
   "pygments_lexer": "ipython3",
   "version": "3.9.6"
  }
 },
 "nbformat": 4,
 "nbformat_minor": 5
}
